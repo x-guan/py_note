{
 "cells": [
  {
   "cell_type": "code",
   "execution_count": 1,
   "metadata": {},
   "outputs": [
    {
     "name": "stdout",
     "output_type": "stream",
     "text": [
      "Let's do some simple calculation.\n",
      "Calculation:  81.25\n",
      "True or false:  True\n",
      "5 += 1: 6\n"
     ]
    }
   ],
   "source": [
    "### calculation\n",
    "print (\"Let's do some simple calculation.\")\n",
    "print (\"Calculation: \", 100 - 25 * 3 / 4)\n",
    "print (\"True or false: \", 5 >= -2)\n",
    "dog = 5\n",
    "dog += 1\n",
    "print (\"5 += 1:\", dog)"
   ]
  },
  {
   "cell_type": "code",
   "execution_count": 2,
   "metadata": {},
   "outputs": [
    {
     "name": "stdout",
     "output_type": "stream",
     "text": [
      "TESLA MODEL X\n",
      "TESLATESLATESLATESLATESLATESLATESLATESLATESLATESLA\n",
      "There are 8 passengers and 2 TESLA cars, 4.0 passenger per car.\n",
      "There are 8 passengers and 2 'TESLA' cars, 4.0 passenger per car.\n",
      "There are 8 passengers and 2 TESLA cars, 4 passenger per car.\n",
      "There are 8 passengers and 2 'TESLA' cars, 4.000000 passenger per car.\n"
     ]
    }
   ],
   "source": [
    "### variables\n",
    "passengers = 8\n",
    "cars = 2\n",
    "made = \"TESLA\"\n",
    "model = \"MODEL X\"\n",
    "print(made + \" \" + model)\n",
    "print(made *10)\n",
    "print (\"There are %s passengers and %s %s cars, %s passenger per car.\" % (passengers, cars, made, passengers/cars))\n",
    "print (\"There are %s passengers and %s %r cars, %r passenger per car.\" % (passengers, cars, made, passengers/cars))\n",
    "print (\"There are %s passengers and %s %s cars, %d passenger per car.\" % (passengers, cars, made, passengers/cars))\n",
    "print (\"There are %s passengers and %s %r cars, %f passenger per car.\" % (passengers, cars, made, passengers/cars))"
   ]
  },
  {
   "cell_type": "code",
   "execution_count": 3,
   "metadata": {},
   "outputs": [
    {
     "name": "stdout",
     "output_type": "stream",
     "text": [
      "1 2\n",
      "one 'two'\n",
      "True False\n",
      "%s %r '%s %r'\n"
     ]
    }
   ],
   "source": [
    "### formatter\n",
    "formatter = \"%s %r\"\n",
    "print (formatter % (1, 2))\n",
    "print (formatter % (\"one\", \"two\"))\n",
    "print (formatter % (True, False))\n",
    "print (formatter % (formatter, formatter))"
   ]
  },
  {
   "cell_type": "code",
   "execution_count": 4,
   "metadata": {},
   "outputs": [
    {
     "name": "stdout",
     "output_type": "stream",
     "text": [
      "\tI'm tabbed in.\n",
      "I'm split\n",
      "on a line.\n",
      "I'm \\ a \\ cat.\n",
      "\n",
      "I'm a:\n",
      " * fat\n",
      "  * cat\n",
      "\n"
     ]
    }
   ],
   "source": [
    "### tab-split-backslash\n",
    "tabby_cat = \"\\tI'm tabbed in.\"\n",
    "print (tabby_cat)\n",
    "persian_cat = \"I'm split\\non a line.\"\n",
    "print (persian_cat)\n",
    "backslash_cat = \"I'm \\\\ a \\\\ cat.\"\n",
    "print (backslash_cat)\n",
    "fat_cat = \"\"\"\n",
    "I'm a:\n",
    " * fat\n",
    "  * cat\n",
    "\"\"\"\n",
    "print (fat_cat)"
   ]
  },
  {
   "cell_type": "code",
   "execution_count": 5,
   "metadata": {},
   "outputs": [
    {
     "name": "stdout",
     "output_type": "stream",
     "text": [
      "How old are you?\n",
      "So, you are 18 old and have black eye color.\n"
     ]
    }
   ],
   "source": [
    "### input\n",
    "print (\"How old are you?\",)\n",
    "# age = int(input())\n",
    "age = 18\n",
    "# eye_color = input(\"What is your eye color? \")\n",
    "eye_color = \"black\"\n",
    "print (\"So, you are %d old and have %s eye color.\" % (age, eye_color))"
   ]
  },
  {
   "cell_type": "code",
   "execution_count": 6,
   "metadata": {},
   "outputs": [
    {
     "name": "stdout",
     "output_type": "stream",
     "text": [
      "City 1: Boston\n",
      "City 2: San Francisco\n",
      "City 3: Los Angeles\n"
     ]
    }
   ],
   "source": [
    "### def\n",
    "def print_one(arg):\n",
    "    print (\"City 1: %s\" % arg)\n",
    "def print_two(*args):\n",
    "    arg1, arg2 = args\n",
    "    print (\"City 2: %s %s\" % (arg1, arg2))\n",
    "def print_two_again(arg1, arg2):\n",
    "    print (\"City 3: %s %s\" % (arg1, arg2))\n",
    "print_one(\"Boston\")\n",
    "print_two(\"San\", \"Francisco\")\n",
    "print_two_again(\"Los\", \"Angeles\")"
   ]
  },
  {
   "cell_type": "code",
   "execution_count": 7,
   "metadata": {},
   "outputs": [
    {
     "name": "stdout",
     "output_type": "stream",
     "text": [
      "100 1 9 3.0 3\n"
     ]
    }
   ],
   "source": [
    "### return\n",
    "def add(a, b):\n",
    "\treturn a + b\n",
    "def subtract(a, b):\n",
    "\treturn a - b\n",
    "def multiply(a, b):\n",
    "\treturn a * b\n",
    "def divide(a, b):\n",
    "\treturn a / b\n",
    "step_1 = add(99,1)\n",
    "step_2 = subtract(step_1,99)\n",
    "step_3 = multiply(step_2,9)\n",
    "step_4 = divide(step_3,3)\n",
    "step_5 = int(step_4)\n",
    "print(step_1, step_2, step_3, step_4, step_5)"
   ]
  },
  {
   "cell_type": "code",
   "execution_count": 8,
   "metadata": {},
   "outputs": [
    {
     "name": "stdout",
     "output_type": "stream",
     "text": [
      "['good', 'night', 'kitten']\n",
      "['e', 'i', 'k', 'n', 't', 't']\n"
     ]
    }
   ],
   "source": [
    "### .split, sorted\n",
    "def break_words(stuff):\n",
    "\tstuff_2 = stuff.split(' ')\n",
    "\treturn stuff_2\n",
    "print (break_words(\"good night kitten\"))\n",
    "\n",
    "def sort_words(stuff):\n",
    "\treturn sorted(stuff)\n",
    "print (sort_words(\"kitten\"))"
   ]
  },
  {
   "cell_type": "code",
   "execution_count": 9,
   "metadata": {},
   "outputs": [
    {
     "name": "stdout",
     "output_type": "stream",
     "text": [
      "We should take the cars.\n"
     ]
    }
   ],
   "source": [
    "### if-elif-else\n",
    "people = 30\n",
    "cars = 40\n",
    "if cars > people:\n",
    "\tprint (\"We should take the cars.\")\n",
    "elif cars < people:\n",
    "\tprint (\"We should not take the cars.\")\n",
    "else:\n",
    "\tprint (\"We can't decide.\")"
   ]
  },
  {
   "cell_type": "code",
   "execution_count": 10,
   "metadata": {},
   "outputs": [
    {
     "name": "stdout",
     "output_type": "stream",
     "text": [
      "I got 1\n",
      "I got apple\n",
      "I got 2\n",
      "I got orange\n",
      "I got 3\n",
      "I got banana\n",
      "Adding 0 to the list.\n",
      "Adding 1 to the list.\n",
      "Adding 2 to the list.\n",
      "Adding 3 to the list.\n",
      "Adding 4 to the list.\n",
      "Adding 5 to the list.\n",
      "[0, 1, 2, 3, 4, 5]\n"
     ]
    }
   ],
   "source": [
    "### for\n",
    "change = [1, 'apple', 2, 'orange', 3, 'banana']\n",
    "for i in change:\n",
    "\tprint (\"I got %s\" % i)\n",
    "\n",
    "# We can also build lists, first start with an empty one\n",
    "elements = []\n",
    "for i in range(0, 6):\n",
    "\tprint (\"Adding %d to the list.\" % i)\n",
    "\telements.append(i)\n",
    "print (elements)"
   ]
  },
  {
   "cell_type": "code",
   "execution_count": 11,
   "metadata": {},
   "outputs": [
    {
     "name": "stdout",
     "output_type": "stream",
     "text": [
      "The top i is 0\n",
      "Numbers now:  [0]\n",
      "The top i is 1\n",
      "Numbers now:  [0, 1]\n",
      "The top i is 2\n",
      "Numbers now:  [0, 1, 2]\n",
      "The top i is 3\n",
      "Numbers now:  [0, 1, 2, 3]\n",
      "The top i is 4\n",
      "Numbers now:  [0, 1, 2, 3, 4]\n",
      "The top i is 5\n",
      "Numbers now:  [0, 1, 2, 3, 4, 5]\n"
     ]
    }
   ],
   "source": [
    "### while\n",
    "i = 0\n",
    "numbers = []\n",
    "\n",
    "while i < 6:\n",
    "\tprint (\"The top i is %d\" % i)\n",
    "\tnumbers.append(i)\n",
    "\tprint (\"Numbers now: \", numbers)\n",
    "\ti += 1"
   ]
  },
  {
   "cell_type": "code",
   "execution_count": 12,
   "metadata": {},
   "outputs": [
    {
     "name": "stdout",
     "output_type": "stream",
     "text": [
      "Adding:  7_Boy\n",
      "Adding:  8_Girl\n",
      "Adding:  9_Banana\n",
      "Adding:  10_Corn\n",
      "Now we have 10 items in stuff:  ['1_Apple', '2_Oranges', '3_Crows', '4_Telephone', '5_Light', '6_Sugar', '7_Boy', '8_Girl', '9_Banana', '10_Corn']\n",
      "stuff[0]: 1_Apple\n",
      "stuff[-1]: 10_Corn\n",
      "stuff.pop(): 10_Corn\n",
      "' '.join(stuff): 1_Apple 2_Oranges 3_Crows 4_Telephone 5_Light 6_Sugar 7_Boy 8_Girl 9_Banana\n",
      "'/'.join(stuff[1:5]): 2_Oranges/3_Crows/4_Telephone/5_Light\n"
     ]
    }
   ],
   "source": [
    "### list\n",
    "ten_things = \"1_Apple 2_Oranges 3_Crows 4_Telephone 5_Light 6_Sugar\"\n",
    "stuff = ten_things.split(' ')\n",
    "more_stuff = [\"14_Day\", \"13_Night\", \"12_Song\", \"11_Frisbee\", \"10_Corn\", \"9_Banana\", \"8_Girl\", \"7_Boy\"]\n",
    "while len(stuff) != 10:\n",
    "\tnext_one = more_stuff.pop()\n",
    "\tprint (\"Adding: \", next_one)\n",
    "\tstuff.append(next_one)\n",
    "\n",
    "print (\"Now we have 10 items in stuff: \", stuff)\n",
    "print (\"stuff[0]:\" , stuff[0])   # select the first one\n",
    "print (\"stuff[-1]:\", stuff[-1])   # Select the last one\n",
    "print (\"stuff.pop():\", stuff.pop())   # Select the last one\n",
    "print (\"' '.join(stuff):\", ' '.join(stuff))   # Make a list to a sentence\n",
    "print (\"'/'.join(stuff[1:5]):\", '/'.join(stuff[1:5])) # Make a list to a sentence\n"
   ]
  },
  {
   "cell_type": "code",
   "execution_count": 13,
   "metadata": {},
   "outputs": [
    {
     "name": "stdout",
     "output_type": "stream",
     "text": [
      "----------\n",
      "CA State has:  San Francisco\n",
      "----------\n",
      "California's abbreviation is:  CA\n",
      "----------\n",
      "California has:  San Francisco\n",
      "----------\n",
      "California is abbreviated CA\n",
      "Oregon is abbreviated OR\n",
      "----------\n",
      "California state is abbreviated CA and has city San Francisco\n",
      "Oregon state is abbreviated OR and has city Portland\n",
      "----------\n",
      "None\n",
      "Sorry, no Texas.\n"
     ]
    }
   ],
   "source": [
    "### dictionary\n",
    "# Create a mapping of state to abbreviation to cities\n",
    "states = {\n",
    "\t'California': 'CA',\n",
    "\t'Oregon': 'OR',\n",
    "}\n",
    "cities = {\n",
    "\t'CA': 'San Francisco',\n",
    "}\n",
    "cities['OR'] = 'Portland'   # add one more city\n",
    "\n",
    "# Print out state and city\n",
    "print ('-' * 10)\n",
    "print (\"CA State has: \", cities['CA'])\n",
    "print ('-' * 10)\n",
    "print (\"California's abbreviation is: \", states['California'])\n",
    "print ('-' * 10)\n",
    "print (\"California has: \", cities[states['California']])\n",
    "\n",
    "# .items\n",
    "print ('-' * 10)\n",
    "for state, abbrev in states.items():\n",
    "\tprint (\"%s is abbreviated %s\" % (state, abbrev))\n",
    "print ('-' * 10)\n",
    "for state, abbrev in states.items():\n",
    "\tprint (\"%s state is abbreviated %s and has city %s\" % (\n",
    "\tstate, abbrev, cities[abbrev]))\n",
    "\n",
    "# .get, a logic variable\n",
    "print ('-' * 10)\n",
    "state = states.get('Texas')\n",
    "print (state)\n",
    "if not state:   # not False = True\n",
    "\tprint (\"Sorry, no Texas.\")"
   ]
  }
 ],
 "metadata": {
  "kernelspec": {
   "display_name": "Python 3",
   "language": "python",
   "name": "python3"
  },
  "language_info": {
   "codemirror_mode": {
    "name": "ipython",
    "version": 3
   },
   "file_extension": ".py",
   "mimetype": "text/x-python",
   "name": "python",
   "nbconvert_exporter": "python",
   "pygments_lexer": "ipython3",
   "version": "3.6.4"
  }
 },
 "nbformat": 4,
 "nbformat_minor": 2
}
